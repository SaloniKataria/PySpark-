{
  "nbformat": 4,
  "nbformat_minor": 0,
  "metadata": {
    "colab": {
      "provenance": [],
      "collapsed_sections": []
    },
    "kernelspec": {
      "name": "python3",
      "display_name": "Python 3"
    },
    "language_info": {
      "name": "python"
    }
  },
  "cells": [
    {
      "cell_type": "markdown",
      "source": [
        "**Installing Spark**"
      ],
      "metadata": {
        "id": "SLZfB1Lmwlho"
      }
    },
    {
      "cell_type": "code",
      "execution_count": null,
      "metadata": {
        "colab": {
          "base_uri": "https://localhost:8080/"
        },
        "id": "WqV0zEcvwbov",
        "outputId": "a554cd42-67ee-4c56-b570-40c742df1288"
      },
      "outputs": [
        {
          "output_type": "stream",
          "name": "stdout",
          "text": [
            "tar: spark-3.1.2-bin-hadoop3.2.tgz: Cannot open: No such file or directory\n",
            "tar: Error is not recoverable: exiting now\n",
            "Looking in indexes: https://pypi.org/simple, https://us-python.pkg.dev/colab-wheels/public/simple/\n",
            "Requirement already satisfied: pyspark in /usr/local/lib/python3.7/dist-packages (3.3.1)\n",
            "Requirement already satisfied: py4j==0.10.9.5 in /usr/local/lib/python3.7/dist-packages (from pyspark) (0.10.9.5)\n"
          ]
        }
      ],
      "source": [
        "!tar -xvf spark-3.1.2-bin-hadoop3.2.tgz\n",
        "\n",
        "# Installing the library to install the spark in python\n",
        "!pip install -q findspark\n",
        "!pip install pyspark"
      ]
    },
    {
      "cell_type": "code",
      "source": [
        "import pandas as pd\n",
        "import pyspark\n",
        "from pyspark import SparkContext, SQLContext\n",
        "import csv\n",
        "import numpy as np\n",
        "import matplotlib.pyplot as plt\n",
        "import matplotlib as mp\n",
        "import seaborn as sns\n",
        "\n",
        "# Importing functions to perform data cleaning\n",
        "import pyspark.sql.functions as sql\n",
        "from pyspark.sql.functions import split  \n",
        "from pyspark.sql.functions import col, expr, when"
      ],
      "metadata": {
        "id": "VMUx7W3l37Mu"
      },
      "execution_count": null,
      "outputs": []
    },
    {
      "cell_type": "code",
      "source": [
        "# Opening local Spark session\n",
        "import findspark\n",
        "findspark.init()\n",
        "from pyspark.sql import SparkSession\n",
        "sprk = SparkSession.builder.master(\"local[*]\").getOrCreate()"
      ],
      "metadata": {
        "id": "OqJISFuuwutq"
      },
      "execution_count": null,
      "outputs": []
    },
    {
      "cell_type": "markdown",
      "source": [
        "**Loading the Dataset**"
      ],
      "metadata": {
        "id": "wQ4aWXfwz1bO"
      }
    },
    {
      "cell_type": "code",
      "source": [
        "# Loading the Amazon CSV\n",
        "amazon = sprk.read.csv('Amazon_Responded_Oct05.csv', header = True, multiLine=True, sep=',',quote=\"\\\"\",escape=\"\\\"\")\n",
        "amazon.show(10)\n",
        "\n",
        "# Loading the Experiment CSV\n",
        "experiment = sprk.read.csv('experiment.txt', header = False, multiLine=True, sep=',',quote=\"\\\"\",escape=\"\\\"\")\n",
        "experiment.show(10)\n",
        "\n",
        "# Loading the Final Experiment CSV\n",
        "final = sprk.read.csv('final_experiment.csv', header = True, multiLine=True, sep=',',quote=\"\\\"\",escape=\"\\\"\")\n",
        "final.show(10)"
      ],
      "metadata": {
        "colab": {
          "base_uri": "https://localhost:8080/"
        },
        "id": "X227CazBz0NQ",
        "outputId": "b60cc12f-ee38-4147-c03a-d479dacd49e0"
      },
      "execution_count": null,
      "outputs": [
        {
          "output_type": "stream",
          "name": "stdout",
          "text": [
            "+--------------------+--------------------+----------------+-----------+-------------------+---------------------+--------------+-----------------+--------------+--------------------+-------------+-------------+--------------------+------------------+--------------------+--------------+--------------------+--------------+---------+-----------------------+-------------------------+-----------------------+-------------+---------+--------------------+\n",
            "|              id_str|    tweet_created_at|user_screen_name|user_id_str|user_statuses_count|user_favourites_count|user_protected|user_listed_count|user_following|    user_description|user_location|user_verified|user_followers_count|user_friends_count|     user_created_at|tweet_language|               text_|favorite_count|favorited|in_reply_to_screen_name|in_reply_to_status_id_str|in_reply_to_user_id_str|retweet_count|retweeted|                text|\n",
            "+--------------------+--------------------+----------------+-----------+-------------------+---------------------+--------------+-----------------+--------------+--------------------+-------------+-------------+--------------------+------------------+--------------------+--------------+--------------------+--------------+---------+-----------------------+-------------------------+-----------------------+-------------+---------+--------------------+\n",
            "|'793270689780203520'|Tue Nov 01 01:57:...|     SeanEPanjab|  143515471|              51287|                 4079|         False|               74|         False|Content marketer;...|   غریب الوطن|        False|                1503|               850|Thu May 13 17:43:...|            en|@AmazonHelp Can y...|             0|    False|             AmazonHelp|                     null|               85741735|            0|    False|                null|\n",
            "|'793281386912354304'|Tue Nov 01 02:39:...|      AmazonHelp|   85741735|            2225450|                11366|         False|              796|         False|We answer Amazon ...|         null|         True|              149569|                53|Wed Oct 28 04:17:...|            en|@SeanEPanjab I'm ...|             0|    False|            SeanEPanjab|     7.932706897802035...|              143515471|            0|    False|                null|\n",
            "|'793501578766319616'|Tue Nov 01 17:14:...|     SeanEPanjab|  143515471|              51287|                 4079|         False|               74|         False|Content marketer;...|   غریب الوطن|        False|                1503|               850|Thu May 13 17:43:...|            en|@AmazonHelp It wa...|             0|    False|             AmazonHelp|     7.932813869123543...|               85741735|            0|    False|@AmazonHelp It wa...|\n",
            "|'793501657346682880'|Tue Nov 01 17:15:...|     SeanEPanjab|  143515471|              51287|                 4079|         False|               74|         False|Content marketer;...|   غریب الوطن|        False|                1503|               850|Thu May 13 17:43:...|            en|@AmazonHelp I am ...|             0|    False|             AmazonHelp|     7.932813869123543...|               85741735|            0|    False|                null|\n",
            "|'793502854459879424'|Tue Nov 01 17:19:...|      AmazonHelp|   85741735|            2225450|                11366|         False|              796|         False|We answer Amazon ...|         null|         True|              149569|                53|Wed Oct 28 04:17:...|            en|@SeanEPanjab Plea...|             0|    False|            SeanEPanjab|     7.935015787663196...|              143515471|            0|    False|@SeanEPanjab Plea...|\n",
            "|'793504235400884224'|Tue Nov 01 17:25:...|      AmazonHelp|   85741735|            2225450|                11366|         False|              796|         False|We answer Amazon ...|         null|         True|              149569|                53|Wed Oct 28 04:17:...|            en|@SeanEPanjab With...|             0|    False|            SeanEPanjab|     7.935016573466829...|              143515471|            0|    False|                null|\n",
            "|'793511847899070465'|Tue Nov 01 17:55:...|     SeanEPanjab|  143515471|              51287|                 4079|         False|               74|         False|Content marketer;...|   غریب الوطن|        False|                1503|               850|Thu May 13 17:43:...|            en|@AmazonHelp It wa...|             0|    False|             AmazonHelp|     7.935042354008842...|               85741735|            0|    False|                null|\n",
            "|'793511899279208449'|Tue Nov 01 17:55:...|     SeanEPanjab|  143515471|              51287|                 4079|         False|               74|         False|Content marketer;...|   غریب الوطن|        False|                1503|               850|Thu May 13 17:43:...|            en|@AmazonHelp if it...|             0|    False|             AmazonHelp|     7.935042354008842...|               85741735|            0|    False|                null|\n",
            "|'793513446633533440'|Tue Nov 01 18:02:...|      AmazonHelp|   85741735|            2225450|                11366|         False|              796|         False|We answer Amazon ...|         null|         True|              149569|                53|Wed Oct 28 04:17:...|            en|@SeanEPanjab I'm ...|             0|    False|            SeanEPanjab|     7.935118992792084...|              143515471|            0|    False|@SeanEPanjab I'm ...|\n",
            "|'793299404975247360'|Tue Nov 01 03:51:...|   aakashwangnoo|   71457972|                592|                  471|         False|               11|         False|Don't try to be G...|    New Delhi|        False|                 234|                57|Fri Sep 04 04:55:...|            en|@JeffBezos @amazo...|             0|    False|              JeffBezos|                     null|               15506669|            0|    False|                null|\n",
            "+--------------------+--------------------+----------------+-----------+-------------------+---------------------+--------------+-----------------+--------------+--------------------+-------------+-------------+--------------------+------------------+--------------------+--------------+--------------------+--------------+---------+-----------------------+-------------------------+-----------------------+-------------+---------+--------------------+\n",
            "only showing top 10 rows\n",
            "\n",
            "+----------+\n",
            "|       _c0|\n",
            "+----------+\n",
            "| 143515471|\n",
            "|  85741735|\n",
            "|  71457972|\n",
            "|2908108256|\n",
            "| 106799492|\n",
            "|  59156981|\n",
            "| 902137872|\n",
            "| 110354554|\n",
            "|  97424433|\n",
            "|  62364020|\n",
            "+----------+\n",
            "only showing top 10 rows\n",
            "\n",
            "+-----------+----+--------------+----------------+\n",
            "|user_id_str|info|whether_active|user_screen_name|\n",
            "+-----------+----+--------------+----------------+\n",
            "|   62364020|   F|          null|            null|\n",
            "| 2706101936|   M|          null|            null|\n",
            "|    5654472|   F|          null|            null|\n",
            "|  145579921|   F|          null|            null|\n",
            "| 2502172122|   M|          null|            null|\n",
            "|  243716471|   F|          null|            null|\n",
            "| 2610379644|   M|          null|            null|\n",
            "|  123138418|   M|          null|            null|\n",
            "|  257376764|   F|          null|            null|\n",
            "|  269145593|   M|          null|            null|\n",
            "+-----------+----+--------------+----------------+\n",
            "only showing top 10 rows\n",
            "\n"
          ]
        }
      ]
    },
    {
      "cell_type": "markdown",
      "source": [
        "**PreProcessing the Datasets**"
      ],
      "metadata": {
        "id": "UvCB_Q6B1Eud"
      }
    },
    {
      "cell_type": "code",
      "source": [
        "# Filtering out the Amazon File\n",
        "\n",
        "## Since we only require 3 columns, we use select rather than drop function\n",
        "\n",
        "amazon = amazon.select('tweet_created_at','user_screen_name','user_id_str')\n",
        "amazon.show(10)\n",
        "print(amazon.count())"
      ],
      "metadata": {
        "colab": {
          "base_uri": "https://localhost:8080/"
        },
        "id": "x2YuxmAG0sA6",
        "outputId": "498210ea-8cc9-4bc4-8931-a0f666553ed4"
      },
      "execution_count": null,
      "outputs": [
        {
          "output_type": "stream",
          "name": "stdout",
          "text": [
            "+--------------------+----------------+-----------+\n",
            "|    tweet_created_at|user_screen_name|user_id_str|\n",
            "+--------------------+----------------+-----------+\n",
            "|Tue Nov 01 01:57:...|     SeanEPanjab|  143515471|\n",
            "|Tue Nov 01 02:39:...|      AmazonHelp|   85741735|\n",
            "|Tue Nov 01 17:14:...|     SeanEPanjab|  143515471|\n",
            "|Tue Nov 01 17:15:...|     SeanEPanjab|  143515471|\n",
            "|Tue Nov 01 17:19:...|      AmazonHelp|   85741735|\n",
            "|Tue Nov 01 17:25:...|      AmazonHelp|   85741735|\n",
            "|Tue Nov 01 17:55:...|     SeanEPanjab|  143515471|\n",
            "|Tue Nov 01 17:55:...|     SeanEPanjab|  143515471|\n",
            "|Tue Nov 01 18:02:...|      AmazonHelp|   85741735|\n",
            "|Tue Nov 01 03:51:...|   aakashwangnoo|   71457972|\n",
            "+--------------------+----------------+-----------+\n",
            "only showing top 10 rows\n",
            "\n",
            "378134\n"
          ]
        }
      ]
    },
    {
      "cell_type": "code",
      "source": [
        "# We need to clean data as it involves date format column and lookout for missing or duplicate values\n",
        "\n",
        "# Converting the date format into readible format\n",
        "date_new = split(amazon[\"tweet_created_at\"], ' ')\n",
        "\n",
        "# Separating the Month and Day from the attribute\n",
        "amazon = amazon.withColumn('Month', date_new.getItem(1))\n",
        "amazon = amazon.withColumn('Day', date_new.getItem(2))\n",
        "\n",
        "# Joining (Concatenating) the date\n",
        "amazon = amazon.withColumn(\"tweet_created_at\",sql.concat(sql.col(\"Month\"), sql.lit(\" \"), sql.col(\"Day\")))\n",
        "amazon= amazon.select('tweet_created_at','user_screen_name','user_id_str')\n",
        "\n",
        "## After Cleaning \n",
        "amazon.show(10)\n",
        "print(amazon.count())"
      ],
      "metadata": {
        "colab": {
          "base_uri": "https://localhost:8080/"
        },
        "id": "Ck3mTkBM1EPz",
        "outputId": "babd2598-87f7-49ac-d5ff-2d9f5a480548"
      },
      "execution_count": null,
      "outputs": [
        {
          "output_type": "stream",
          "name": "stdout",
          "text": [
            "+----------------+----------------+-----------+\n",
            "|tweet_created_at|user_screen_name|user_id_str|\n",
            "+----------------+----------------+-----------+\n",
            "|          Nov 01|     SeanEPanjab|  143515471|\n",
            "|          Nov 01|      AmazonHelp|   85741735|\n",
            "|          Nov 01|     SeanEPanjab|  143515471|\n",
            "|          Nov 01|     SeanEPanjab|  143515471|\n",
            "|          Nov 01|      AmazonHelp|   85741735|\n",
            "|          Nov 01|      AmazonHelp|   85741735|\n",
            "|          Nov 01|     SeanEPanjab|  143515471|\n",
            "|          Nov 01|     SeanEPanjab|  143515471|\n",
            "|          Nov 01|      AmazonHelp|   85741735|\n",
            "|          Nov 01|   aakashwangnoo|   71457972|\n",
            "+----------------+----------------+-----------+\n",
            "only showing top 10 rows\n",
            "\n",
            "378134\n"
          ]
        }
      ]
    },
    {
      "cell_type": "code",
      "source": [
        "# Removing the duplicates\n",
        "\n",
        "amazon = amazon.dropDuplicates()\n",
        "amazon.show(10)\n",
        "print(amazon.count())"
      ],
      "metadata": {
        "colab": {
          "base_uri": "https://localhost:8080/"
        },
        "id": "pDveWPeH6db0",
        "outputId": "0fdf701b-9fff-4644-c807-542045c9eb8b"
      },
      "execution_count": null,
      "outputs": [
        {
          "output_type": "stream",
          "name": "stdout",
          "text": [
            "+----------------+----------------+-----------+\n",
            "|tweet_created_at|user_screen_name|user_id_str|\n",
            "+----------------+----------------+-----------+\n",
            "|          Nov 01|     mybharatraj|  902137872|\n",
            "|          Nov 01|     lisacatek75| 3526380922|\n",
            "|          Nov 02|    GujarGaurang| 1188929052|\n",
            "|          Nov 02|        dxman830|  186287415|\n",
            "|          Nov 02|       JSpangs44|   23695124|\n",
            "|          Nov 02|        BMorley5| 3127117599|\n",
            "|          Nov 10| rashmirawat2912| 3939183493|\n",
            "|          Nov 07|        SKRinten|  129697885|\n",
            "|          Nov 07|    DuranDurrant| 4275197799|\n",
            "|          Nov 07|    ThePixelGirl|   44668641|\n",
            "+----------------+----------------+-----------+\n",
            "only showing top 10 rows\n",
            "\n",
            "93929\n"
          ]
        }
      ]
    },
    {
      "cell_type": "markdown",
      "source": [
        "**STEP 1** : FIND USERS WHO ARE ACTIVE IN AT LEAST 5 DAYS"
      ],
      "metadata": {
        "id": "qTIa-LF8tQVt"
      }
    },
    {
      "cell_type": "code",
      "source": [
        "# Take only the unique user-created tweets for one day. Every day, one tweet.\n",
        "\n",
        "amazon = amazon.select(\"user_screen_name\",\"user_id_str\", \"tweet_created_at\").distinct() \n",
        "amazon.show(10)"
      ],
      "metadata": {
        "colab": {
          "base_uri": "https://localhost:8080/"
        },
        "id": "IpDP1Rvw6tFd",
        "outputId": "68d5767a-088a-42e7-f326-865eea8e1e3d"
      },
      "execution_count": null,
      "outputs": [
        {
          "output_type": "stream",
          "name": "stdout",
          "text": [
            "+----------------+-----------+----------------+\n",
            "|user_screen_name|user_id_str|tweet_created_at|\n",
            "+----------------+-----------+----------------+\n",
            "|         Folferz|   94245683|          Nov 01|\n",
            "|  JordanPennings|   21267682|          Nov 01|\n",
            "|    ohthatandrew|  236301546|          Nov 01|\n",
            "|    sandeepabhat|   92895763|          Nov 02|\n",
            "| samthejewishguy|   49750455|          Nov 03|\n",
            "|     louislagoon|  422753927|          Nov 04|\n",
            "|   grouchypotato|   19451813|          Nov 04|\n",
            "|  Olliecological|  339912317|          Nov 05|\n",
            "|      kagesaikin| 4133902939|          Nov 05|\n",
            "|     absolutwade|     689443|          Nov 05|\n",
            "+----------------+-----------+----------------+\n",
            "only showing top 10 rows\n",
            "\n"
          ]
        }
      ]
    },
    {
      "cell_type": "code",
      "source": [
        "# Filtering our users with atleast 5 tweets\n",
        "\n",
        "amazon = amazon.groupBy(\"user_screen_name\",\"user_id_str\").count() \n",
        "amazon = amazon.filter(amazon['count']>=5)\n",
        "\n",
        "daily_active_users = amazon.select('user_screen_name', 'user_id_str')\n",
        "daily_active_users.show(10)\n",
        "\n",
        "print('Active users: ', daily_active_users.count())"
      ],
      "metadata": {
        "colab": {
          "base_uri": "https://localhost:8080/"
        },
        "id": "9VrQZyuVD4F1",
        "outputId": "e876cfab-a335-4f51-c36c-dd641ca0508a"
      },
      "execution_count": null,
      "outputs": [
        {
          "output_type": "stream",
          "name": "stdout",
          "text": [
            "+----------------+------------------+\n",
            "|user_screen_name|       user_id_str|\n",
            "+----------------+------------------+\n",
            "|        remakoul|814372928695521280|\n",
            "|       SkullyRox|          20391647|\n",
            "|  whisperandmoan|         113516042|\n",
            "|  sky_regenrated|         483059773|\n",
            "|   Gentlemen_Sam|         441572163|\n",
            "|          MtnrMS|        3309102108|\n",
            "| roxyunderwood93|         295334669|\n",
            "|        TCMuffin|          35591749|\n",
            "|        trallyus|          11702402|\n",
            "|  ChaurasiaRohin|706032993794527232|\n",
            "+----------------+------------------+\n",
            "only showing top 10 rows\n",
            "\n",
            "Active users:  593\n"
          ]
        }
      ]
    },
    {
      "cell_type": "markdown",
      "source": [
        "Therefore, we find that **593 active members** are present in the dataset who are active in at least 5 listed days"
      ],
      "metadata": {
        "id": "LM-lb193FoBP"
      }
    },
    {
      "cell_type": "code",
      "source": [
        "# Storing the result in the target file\n",
        "daily_active_users.toPandas().to_csv('daily_active_users.csv')"
      ],
      "metadata": {
        "id": "YRchouudF3Lt"
      },
      "execution_count": null,
      "outputs": []
    },
    {
      "cell_type": "markdown",
      "source": [
        "**STEP 2:** FINDING IF THE USER IS ACTIVE OR NOT AND CALCULATING THE PERCENTAGE OF ACTIVE USERS"
      ],
      "metadata": {
        "id": "ykNYvoaBF7tR"
      }
    },
    {
      "cell_type": "code",
      "source": [
        "# Renaming the column\n",
        "experiment = experiment.withColumnRenamed(\"_c0\", \"user_id\")\n",
        "experiment.show(10)"
      ],
      "metadata": {
        "colab": {
          "base_uri": "https://localhost:8080/"
        },
        "id": "YDDr9yECGW1T",
        "outputId": "0e81f22d-3533-4bc8-95e4-d0df852c43b0"
      },
      "execution_count": null,
      "outputs": [
        {
          "output_type": "stream",
          "name": "stdout",
          "text": [
            "+----------+\n",
            "|   user_id|\n",
            "+----------+\n",
            "| 143515471|\n",
            "|  85741735|\n",
            "|  71457972|\n",
            "|2908108256|\n",
            "| 106799492|\n",
            "|  59156981|\n",
            "| 902137872|\n",
            "| 110354554|\n",
            "|  97424433|\n",
            "|  62364020|\n",
            "+----------+\n",
            "only showing top 10 rows\n",
            "\n"
          ]
        }
      ]
    },
    {
      "cell_type": "code",
      "source": [
        "# Combine the two csv files on 'user_id'\n",
        "\n",
        "new = experiment.join(daily_active_users,daily_active_users.user_id_str == experiment.user_id, how=\"left\")\n",
        "new.show(10)"
      ],
      "metadata": {
        "colab": {
          "base_uri": "https://localhost:8080/"
        },
        "id": "fIgQ8gffLxTT",
        "outputId": "e1fd7842-cf64-49b7-f0cc-40e9617167a4"
      },
      "execution_count": null,
      "outputs": [
        {
          "output_type": "stream",
          "name": "stdout",
          "text": [
            "+----------+----------------+-----------+\n",
            "|   user_id|user_screen_name|user_id_str|\n",
            "+----------+----------------+-----------+\n",
            "| 106799492|            null|       null|\n",
            "|  62364020|            null|       null|\n",
            "|2908108256|            null|       null|\n",
            "| 143515471|            null|       null|\n",
            "|  97424433|            null|       null|\n",
            "|2706101936|            null|       null|\n",
            "| 110354554| praveen_pandey_|  110354554|\n",
            "|  59156981|            null|       null|\n",
            "|  71457972|            null|       null|\n",
            "|  85741735|      AmazonHelp|   85741735|\n",
            "+----------+----------------+-----------+\n",
            "only showing top 10 rows\n",
            "\n"
          ]
        }
      ]
    },
    {
      "cell_type": "code",
      "source": [
        "# Filtering the columns \n",
        "experiment_ = new.select('user_id', 'user_id_str')\n",
        "\n",
        "# Assigning the null values to yes or no\n",
        "experiment_ = experiment_.withColumn(\"user_id_str\", when(experiment_.user_id_str.isNull(), 'no').otherwise(experiment_[\"user_id_str\"]))\n",
        "experiment_ = experiment_.withColumn(\"user_id_str\", when(experiment_['user_id_str'] != 'no', 'yes').otherwise(experiment_[\"user_id_str\"]))\n",
        "\n",
        "# Renaming the columns\n",
        "experiment_ = experiment_.withColumnRenamed('user_id_str', 'Whether_Active')\n",
        "\n",
        "experiment_.show(10)\n",
        "print(\"The number of Experiment is\", experiment_.count(),\".\")"
      ],
      "metadata": {
        "colab": {
          "base_uri": "https://localhost:8080/"
        },
        "id": "C2I8JsQ4LkD3",
        "outputId": "54c5f64d-271e-44b2-8401-81ec2496ea03"
      },
      "execution_count": null,
      "outputs": [
        {
          "output_type": "stream",
          "name": "stdout",
          "text": [
            "+----------+--------------+\n",
            "|   user_id|Whether_Active|\n",
            "+----------+--------------+\n",
            "| 143515471|            no|\n",
            "|  85741735|           yes|\n",
            "|  71457972|            no|\n",
            "|2908108256|            no|\n",
            "| 106799492|            no|\n",
            "|  59156981|            no|\n",
            "| 902137872|           yes|\n",
            "| 110354554|           yes|\n",
            "|  97424433|            no|\n",
            "|  62364020|            no|\n",
            "+----------+--------------+\n",
            "only showing top 10 rows\n",
            "\n",
            "The number of Experiment is 5000 .\n"
          ]
        }
      ]
    },
    {
      "cell_type": "code",
      "source": [
        "# Group by the active column\n",
        "experiment_.groupBy(\"Whether_Active\").count().show()"
      ],
      "metadata": {
        "colab": {
          "base_uri": "https://localhost:8080/"
        },
        "id": "EAcIzd-CMk-K",
        "outputId": "f75745d1-fe69-483c-ba3d-fabcbee52574"
      },
      "execution_count": null,
      "outputs": [
        {
          "output_type": "stream",
          "name": "stdout",
          "text": [
            "+--------------+-----+\n",
            "|Whether_Active|count|\n",
            "+--------------+-----+\n",
            "|            no| 4879|\n",
            "|           yes|  121|\n",
            "+--------------+-----+\n",
            "\n"
          ]
        }
      ]
    },
    {
      "cell_type": "code",
      "source": [
        "# Calculating the percentage of active users\n",
        "\n",
        "no = experiment_.groupBy(\"Whether_Active\").count().collect()[0][\"count\"]\n",
        "yes = experiment_.groupBy(\"Whether_Active\").count().collect()[1][\"count\"]\n",
        "result = yes/(no+yes)*100\n",
        "print(\"Percentage of active users\", result, \"%\")"
      ],
      "metadata": {
        "colab": {
          "base_uri": "https://localhost:8080/"
        },
        "id": "DtWj5GcAMq7e",
        "outputId": "c538b09a-f64f-45ae-e246-3830bffec7a9"
      },
      "execution_count": null,
      "outputs": [
        {
          "output_type": "stream",
          "name": "stdout",
          "text": [
            "Percentage of active users 2.42 %\n"
          ]
        }
      ]
    },
    {
      "cell_type": "markdown",
      "source": [
        "Thus the percentage of **active users is 2.42%**"
      ],
      "metadata": {
        "id": "jowE4ubxM8BQ"
      }
    },
    {
      "cell_type": "code",
      "source": [
        "# Store the result in the csv file\n",
        "experiment_.toPandas().to_csv('Experiment_user.csv')"
      ],
      "metadata": {
        "id": "F9pttKLNNDGQ"
      },
      "execution_count": null,
      "outputs": []
    },
    {
      "cell_type": "markdown",
      "source": [
        "**STEP 3**: COMBINE THREE TABLES"
      ],
      "metadata": {
        "id": "kRC95A_1NNgz"
      }
    },
    {
      "cell_type": "code",
      "source": [
        "# Explore the final experiment table to find the shape \n",
        "\n",
        "final.show(5)\n",
        "print(final.count())"
      ],
      "metadata": {
        "colab": {
          "base_uri": "https://localhost:8080/"
        },
        "id": "DDrJV87pNrOk",
        "outputId": "3f9d8c31-1946-403a-b9b6-d831eee9e1bf"
      },
      "execution_count": null,
      "outputs": [
        {
          "output_type": "stream",
          "name": "stdout",
          "text": [
            "+-----------+----+--------------+----------------+\n",
            "|user_id_str|info|whether_active|user_screen_name|\n",
            "+-----------+----+--------------+----------------+\n",
            "|   62364020|   F|          null|            null|\n",
            "| 2706101936|   M|          null|            null|\n",
            "|    5654472|   F|          null|            null|\n",
            "|  145579921|   F|          null|            null|\n",
            "| 2502172122|   M|          null|            null|\n",
            "+-----------+----+--------------+----------------+\n",
            "only showing top 5 rows\n",
            "\n",
            "4500\n"
          ]
        }
      ]
    },
    {
      "cell_type": "code",
      "source": [
        "# Filtering the final experiment table \n",
        "\n",
        "final = final.select('user_id_str', 'info') \n",
        "final.show(10)"
      ],
      "metadata": {
        "colab": {
          "base_uri": "https://localhost:8080/"
        },
        "id": "l0yxk8gzOMLq",
        "outputId": "10b6e3fb-e605-4c86-919a-da98536cbb2b"
      },
      "execution_count": null,
      "outputs": [
        {
          "output_type": "stream",
          "name": "stdout",
          "text": [
            "+-----------+----+\n",
            "|user_id_str|info|\n",
            "+-----------+----+\n",
            "|   62364020|   F|\n",
            "| 2706101936|   M|\n",
            "|    5654472|   F|\n",
            "|  145579921|   F|\n",
            "| 2502172122|   M|\n",
            "|  243716471|   F|\n",
            "| 2610379644|   M|\n",
            "|  123138418|   M|\n",
            "|  257376764|   F|\n",
            "|  269145593|   M|\n",
            "+-----------+----+\n",
            "only showing top 10 rows\n",
            "\n"
          ]
        }
      ]
    },
    {
      "cell_type": "code",
      "source": [
        "# In order to join three tables, I first apply left join on final experiment and experiment  \n",
        "\n",
        "left_join = final.join(experiment_, experiment_.user_id == final.user_id_str, how= 'left')\n",
        "\n",
        "# Left outer join on daily active users and final experiment\n",
        "\n",
        "final_ = left_join.join(daily_active_users, daily_active_users.user_id_str == final.user_id_str, how='left_outer') "
      ],
      "metadata": {
        "id": "xZ0dy1sYN8f-"
      },
      "execution_count": null,
      "outputs": []
    },
    {
      "cell_type": "code",
      "source": [
        "final_ = final_.select('user_id','info','Whether_Active','user_screen_name')\n",
        "final_.show()"
      ],
      "metadata": {
        "colab": {
          "base_uri": "https://localhost:8080/"
        },
        "id": "LAvwFDWWOuJP",
        "outputId": "a5ab33da-fc3b-44cb-b17b-8c46788ae413"
      },
      "execution_count": null,
      "outputs": [
        {
          "output_type": "stream",
          "name": "stdout",
          "text": [
            "+----------+----+--------------+----------------+\n",
            "|   user_id|info|Whether_Active|user_screen_name|\n",
            "+----------+----+--------------+----------------+\n",
            "|1112166661|   F|            no|            null|\n",
            "|1209614366|   M|            no|            null|\n",
            "| 123138418|   M|            no|            null|\n",
            "| 145579921|   F|            no|            null|\n",
            "|1510968974|   F|            no|            null|\n",
            "| 163413904|   F|            no|            null|\n",
            "|  16980347|   M|            no|            null|\n",
            "|1970607968|   M|            no|            null|\n",
            "| 243716471|   F|            no|            null|\n",
            "|2502172122|   M|            no|            null|\n",
            "| 257376764|   F|            no|            null|\n",
            "|2610379644|   M|            no|            null|\n",
            "| 269145593|   M|            no|            null|\n",
            "|2706101936|   M|            no|            null|\n",
            "|3285473358|   F|           yes|    iwritegarima|\n",
            "|3526380922|   M|            no|            null|\n",
            "| 370711133|   F|            no|            null|\n",
            "| 422175328|   M|            no|            null|\n",
            "| 447433286|   F|            no|            null|\n",
            "|   5654472|   F|            no|            null|\n",
            "+----------+----+--------------+----------------+\n",
            "only showing top 20 rows\n",
            "\n"
          ]
        }
      ]
    },
    {
      "cell_type": "code",
      "source": [
        "# Renaming the null values as not found\n",
        "\n",
        "final_ = final_.na.fill(\"Not Found\")\n",
        "final_.show(10)\n",
        "print(\"Total Records: \",final_.count())"
      ],
      "metadata": {
        "colab": {
          "base_uri": "https://localhost:8080/"
        },
        "id": "QEei6f7tO8Q0",
        "outputId": "c2d5a5a1-f8dd-4f1a-e884-48c31b079767"
      },
      "execution_count": null,
      "outputs": [
        {
          "output_type": "stream",
          "name": "stdout",
          "text": [
            "+----------+----+--------------+----------------+\n",
            "|   user_id|info|Whether_Active|user_screen_name|\n",
            "+----------+----+--------------+----------------+\n",
            "| 123138418|   M|            no|       Not Found|\n",
            "| 145579921|   F|            no|       Not Found|\n",
            "| 243716471|   F|            no|       Not Found|\n",
            "|2502172122|   M|            no|       Not Found|\n",
            "| 257376764|   F|            no|       Not Found|\n",
            "|2610379644|   M|            no|       Not Found|\n",
            "| 269145593|   M|            no|       Not Found|\n",
            "|2706101936|   M|            no|       Not Found|\n",
            "| 370711133|   F|            no|       Not Found|\n",
            "|   5654472|   F|            no|       Not Found|\n",
            "+----------+----+--------------+----------------+\n",
            "only showing top 10 rows\n",
            "\n",
            "Total Records:  4500\n"
          ]
        }
      ]
    },
    {
      "cell_type": "code",
      "source": [
        "# Counting the number of yes and no\n",
        "final_.groupBy(\"Whether_Active\").count().show()"
      ],
      "metadata": {
        "colab": {
          "base_uri": "https://localhost:8080/"
        },
        "id": "GM22sL9EPUYl",
        "outputId": "0f3553e2-6020-4c4b-a4fc-3fda7abdeb06"
      },
      "execution_count": null,
      "outputs": [
        {
          "output_type": "stream",
          "name": "stdout",
          "text": [
            "+--------------+-----+\n",
            "|Whether_Active|count|\n",
            "+--------------+-----+\n",
            "|     Not Found|  262|\n",
            "|            no| 4142|\n",
            "|           yes|   96|\n",
            "+--------------+-----+\n",
            "\n"
          ]
        }
      ]
    },
    {
      "cell_type": "markdown",
      "source": [
        "Thus, we find that **96 members are active**"
      ],
      "metadata": {
        "id": "manosWfXPaob"
      }
    },
    {
      "cell_type": "code",
      "source": [
        "# Storing the results into the CSV\n",
        "\n",
        "final_.toPandas().to_csv('Final_experiment_output.csv')"
      ],
      "metadata": {
        "id": "zZ-Bd3WcQAd7"
      },
      "execution_count": null,
      "outputs": []
    },
    {
      "cell_type": "markdown",
      "source": [
        "\n",
        "**Explanation as to how I joined the three tables:**\n",
        "1. Applied the left join final_experiment.csv with experiment.csv (active users) since final-experiment is subset of the experiment_users.\n",
        "Output: users who are active and inactive.\n",
        "\n",
        "2. Applied the left outer join the above output with daily_active_users.csv so I get the needed active users and I keep the other id's as blank."
      ],
      "metadata": {
        "id": "Z2QcyZIVPlOD"
      }
    }
  ]
}